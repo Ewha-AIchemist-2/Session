{
 "cells": [
  {
   "cell_type": "markdown",
   "metadata": {},
   "source": [
    "#### Guideline\n",
    "//# TODO : 명령문\n",
    "\n",
    "(주석 아래 코드를 작성하면 됩니다)\n",
    "\n",
    "\n",
    "*빈 행만큼 코드를 채우면 됩니다"
   ]
  },
  {
   "cell_type": "markdown",
   "metadata": {},
   "source": [
    "# **1. 데이터 및 라이브러리 불러오기**"
   ]
  },
  {
   "cell_type": "code",
   "execution_count": 2,
   "metadata": {},
   "outputs": [
    {
     "name": "stdout",
     "output_type": "stream",
     "text": [
      "Collecting konlpy\n",
      "  Downloading konlpy-0.6.0-py2.py3-none-any.whl (19.4 MB)\n",
      "\u001b[2K     \u001b[90m━━━━━━━━━━━━━━━━━━━━━━━━━━━━━━━━━━━━━━━━\u001b[0m \u001b[32m19.4/19.4 MB\u001b[0m \u001b[31m5.8 MB/s\u001b[0m eta \u001b[36m0:00:00\u001b[0m00:01\u001b[0m00:01\u001b[0m\n",
      "\u001b[?25hCollecting JPype1>=0.7.0 (from konlpy)\n",
      "  Downloading JPype1-1.5.0-cp311-cp311-macosx_10_9_universal2.whl.metadata (4.9 kB)\n",
      "Requirement already satisfied: lxml>=4.1.0 in /Users/lenovo/anaconda3/lib/python3.11/site-packages (from konlpy) (4.9.3)\n",
      "Requirement already satisfied: numpy>=1.6 in /Users/lenovo/anaconda3/lib/python3.11/site-packages (from konlpy) (1.24.3)\n",
      "Requirement already satisfied: packaging in /Users/lenovo/anaconda3/lib/python3.11/site-packages (from JPype1>=0.7.0->konlpy) (23.1)\n",
      "Downloading JPype1-1.5.0-cp311-cp311-macosx_10_9_universal2.whl (587 kB)\n",
      "\u001b[2K   \u001b[90m━━━━━━━━━━━━━━━━━━━━━━━━━━━━━━━━━━━━━━━━\u001b[0m \u001b[32m587.4/587.4 kB\u001b[0m \u001b[31m5.2 MB/s\u001b[0m eta \u001b[36m0:00:00\u001b[0ma \u001b[36m0:00:01\u001b[0m\n",
      "\u001b[?25hInstalling collected packages: JPype1, konlpy\n",
      "Successfully installed JPype1-1.5.0 konlpy-0.6.0\n",
      "\n",
      "\u001b[1m[\u001b[0m\u001b[34;49mnotice\u001b[0m\u001b[1;39;49m]\u001b[0m\u001b[39;49m A new release of pip is available: \u001b[0m\u001b[31;49m23.3.1\u001b[0m\u001b[39;49m -> \u001b[0m\u001b[32;49m23.3.2\u001b[0m\n",
      "\u001b[1m[\u001b[0m\u001b[34;49mnotice\u001b[0m\u001b[1;39;49m]\u001b[0m\u001b[39;49m To update, run: \u001b[0m\u001b[32;49m/Users/lenovo/anaconda3/bin/python -m pip install --upgrade pip\u001b[0m\n",
      "Note: you may need to restart the kernel to use updated packages.\n"
     ]
    }
   ],
   "source": [
    "pip install konlpy "
   ]
  },
  {
   "cell_type": "code",
   "execution_count": 3,
   "metadata": {},
   "outputs": [],
   "source": [
    "import pandas as pd\n",
    "import numpy as np\n",
    "import matplotlib.pyplot as plt\n",
    "import re\n",
    "import json\n",
    "import os\n",
    "import tqdm\n",
    "\n",
    "from konlpy.tag import Okt\n",
    "\n",
    "import sklearn\n",
    "from sklearn.preprocessing import LabelEncoder\n",
    "from sklearn.model_selection import train_test_split\n",
    "from sklearn.metrics import log_loss, accuracy_score,f1_score\n",
    "from sklearn.feature_extraction.text import CountVectorizer\n",
    "from sklearn.ensemble import RandomForestClassifier"
   ]
  },
  {
   "cell_type": "code",
   "execution_count": 5,
   "metadata": {},
   "outputs": [],
   "source": [
    "#TODO : 데이터를 import하시오 (train과 test 데이터, 자신의 데이터셋 위치 고려하여 작성!)\n",
    "train = pd.read_csv('train.csv')\n",
    "test = pd.read_csv('test.csv')\n",
    "sample_submission=pd.read_csv('sample_submission.csv')"
   ]
  },
  {
   "cell_type": "markdown",
   "metadata": {},
   "source": [
    "# **2. 데이터 EDA**"
   ]
  },
  {
   "cell_type": "code",
   "execution_count": 6,
   "metadata": {},
   "outputs": [
    {
     "data": {
      "text/html": [
       "<div>\n",
       "<style scoped>\n",
       "    .dataframe tbody tr th:only-of-type {\n",
       "        vertical-align: middle;\n",
       "    }\n",
       "\n",
       "    .dataframe tbody tr th {\n",
       "        vertical-align: top;\n",
       "    }\n",
       "\n",
       "    .dataframe thead th {\n",
       "        text-align: right;\n",
       "    }\n",
       "</style>\n",
       "<table border=\"1\" class=\"dataframe\">\n",
       "  <thead>\n",
       "    <tr style=\"text-align: right;\">\n",
       "      <th></th>\n",
       "      <th>index</th>\n",
       "      <th>제출년도</th>\n",
       "      <th>사업명</th>\n",
       "      <th>사업_부처명</th>\n",
       "      <th>계속과제여부</th>\n",
       "      <th>내역사업명</th>\n",
       "      <th>과제명</th>\n",
       "      <th>요약문_연구목표</th>\n",
       "      <th>요약문_연구내용</th>\n",
       "      <th>요약문_기대효과</th>\n",
       "      <th>요약문_한글키워드</th>\n",
       "      <th>요약문_영문키워드</th>\n",
       "      <th>label</th>\n",
       "    </tr>\n",
       "  </thead>\n",
       "  <tbody>\n",
       "    <tr>\n",
       "      <th>0</th>\n",
       "      <td>0</td>\n",
       "      <td>2016</td>\n",
       "      <td>농업기초기반연구</td>\n",
       "      <td>농촌진흥청</td>\n",
       "      <td>신규</td>\n",
       "      <td>농산물안전성연구</td>\n",
       "      <td>유전정보를 활용한 새로운 해충 분류군 동정기술 개발</td>\n",
       "      <td>○ 새로운 해충분류군의 동정기술 개발 및 유입확산 추적</td>\n",
       "      <td>(가) 외래 및 돌발해충의 발생조사 및 종 동정\\n\\n\\n    ○ 대상해충 : 최...</td>\n",
       "      <td>○ 새로운 돌발 및 외래해충의 신속, 정확한 동정법 향상\\n\\n\\n○ 돌발 및 외래...</td>\n",
       "      <td>뉴클레오티드 염기서열, 분자마커, 종 동정, 침샘, 전사체</td>\n",
       "      <td>nucleotide sequence, molecular marker, species...</td>\n",
       "      <td>24</td>\n",
       "    </tr>\n",
       "    <tr>\n",
       "      <th>1</th>\n",
       "      <td>1</td>\n",
       "      <td>2019</td>\n",
       "      <td>이공학학술연구기반구축(R&amp;D)</td>\n",
       "      <td>교육부</td>\n",
       "      <td>신규</td>\n",
       "      <td>지역대학우수과학자지원사업(1년~5년)</td>\n",
       "      <td>대장암의 TRAIL 내성 표적 인자 발굴 및 TRAIL 반응 예측 유전자 지도 구축...</td>\n",
       "      <td>최종목표:  TRAIL 감수성 표적 유전자를 발굴하고 내성제어 기전을 연구. 발굴된...</td>\n",
       "      <td>1차년도\\n1) Microarray를 통한 선천적 TRAIL 내성 표적 후보 유전자...</td>\n",
       "      <td>1) TRAIL 내성 특이적 표적분자를 발굴하고, 이를 이용한 TRAIL 효과 증진...</td>\n",
       "      <td>대장암,항암제 내성,세포사멸,유전자발굴</td>\n",
       "      <td>TRAIL,Colorectal cancer,TRAIL resistance,Apopt...</td>\n",
       "      <td>0</td>\n",
       "    </tr>\n",
       "  </tbody>\n",
       "</table>\n",
       "</div>"
      ],
      "text/plain": [
       "   index  제출년도               사업명 사업_부처명 계속과제여부                 내역사업명  \\\n",
       "0      0  2016          농업기초기반연구  농촌진흥청     신규              농산물안전성연구   \n",
       "1      1  2019  이공학학술연구기반구축(R&D)    교육부     신규  지역대학우수과학자지원사업(1년~5년)   \n",
       "\n",
       "                                                 과제명  \\\n",
       "0                       유전정보를 활용한 새로운 해충 분류군 동정기술 개발   \n",
       "1  대장암의 TRAIL 내성 표적 인자 발굴 및 TRAIL 반응 예측 유전자 지도 구축...   \n",
       "\n",
       "                                            요약문_연구목표  \\\n",
       "0                     ○ 새로운 해충분류군의 동정기술 개발 및 유입확산 추적   \n",
       "1  최종목표:  TRAIL 감수성 표적 유전자를 발굴하고 내성제어 기전을 연구. 발굴된...   \n",
       "\n",
       "                                            요약문_연구내용  \\\n",
       "0  (가) 외래 및 돌발해충의 발생조사 및 종 동정\\n\\n\\n    ○ 대상해충 : 최...   \n",
       "1  1차년도\\n1) Microarray를 통한 선천적 TRAIL 내성 표적 후보 유전자...   \n",
       "\n",
       "                                            요약문_기대효과  \\\n",
       "0  ○ 새로운 돌발 및 외래해충의 신속, 정확한 동정법 향상\\n\\n\\n○ 돌발 및 외래...   \n",
       "1  1) TRAIL 내성 특이적 표적분자를 발굴하고, 이를 이용한 TRAIL 효과 증진...   \n",
       "\n",
       "                          요약문_한글키워드  \\\n",
       "0  뉴클레오티드 염기서열, 분자마커, 종 동정, 침샘, 전사체   \n",
       "1             대장암,항암제 내성,세포사멸,유전자발굴   \n",
       "\n",
       "                                           요약문_영문키워드  label  \n",
       "0  nucleotide sequence, molecular marker, species...     24  \n",
       "1  TRAIL,Colorectal cancer,TRAIL resistance,Apopt...      0  "
      ]
     },
     "execution_count": 6,
     "metadata": {},
     "output_type": "execute_result"
    }
   ],
   "source": [
    "train.head(2)"
   ]
  },
  {
   "cell_type": "code",
   "execution_count": 7,
   "metadata": {},
   "outputs": [
    {
     "data": {
      "text/html": [
       "<div>\n",
       "<style scoped>\n",
       "    .dataframe tbody tr th:only-of-type {\n",
       "        vertical-align: middle;\n",
       "    }\n",
       "\n",
       "    .dataframe tbody tr th {\n",
       "        vertical-align: top;\n",
       "    }\n",
       "\n",
       "    .dataframe thead th {\n",
       "        text-align: right;\n",
       "    }\n",
       "</style>\n",
       "<table border=\"1\" class=\"dataframe\">\n",
       "  <thead>\n",
       "    <tr style=\"text-align: right;\">\n",
       "      <th></th>\n",
       "      <th>index</th>\n",
       "      <th>제출년도</th>\n",
       "      <th>사업명</th>\n",
       "      <th>사업_부처명</th>\n",
       "      <th>계속과제여부</th>\n",
       "      <th>내역사업명</th>\n",
       "      <th>과제명</th>\n",
       "      <th>요약문_연구목표</th>\n",
       "      <th>요약문_연구내용</th>\n",
       "      <th>요약문_기대효과</th>\n",
       "      <th>요약문_한글키워드</th>\n",
       "      <th>요약문_영문키워드</th>\n",
       "    </tr>\n",
       "  </thead>\n",
       "  <tbody>\n",
       "    <tr>\n",
       "      <th>0</th>\n",
       "      <td>174304</td>\n",
       "      <td>2016</td>\n",
       "      <td>경제협력권산업육성</td>\n",
       "      <td>산업통상자원부</td>\n",
       "      <td>신규</td>\n",
       "      <td>자동차융합부품</td>\n",
       "      <td>R-FSSW 기술 적용 경량 차체 부품 개발 및 품질 평가를 위한 64채널 C-SC...</td>\n",
       "      <td>○ 차체 점용접부의 품질 검사를 위한 64채널 무선 기반 C-Scan 탐촉자 개발\\...</td>\n",
       "      <td>○ 1차년도\\n\\n    . 개발 탐촉 시스템의 성능 평가 위한 표준 시편 제작 시...</td>\n",
       "      <td>○ 기술적 파급효과\\n\\n  - 본 연구에서 개발된 R-FSSW 접합 기술은 기존 ...</td>\n",
       "      <td>마찰교반점용접, 비파괴 검사, 초음파 탐상, 씨 스캔, 용접 품질 평가</td>\n",
       "      <td>Friction Stir Spot Welding, Non-destructive ev...</td>\n",
       "    </tr>\n",
       "    <tr>\n",
       "      <th>1</th>\n",
       "      <td>174305</td>\n",
       "      <td>2018</td>\n",
       "      <td>개인기초연구(과기정통부)(R&amp;D)</td>\n",
       "      <td>과학기술정보통신부</td>\n",
       "      <td>계속</td>\n",
       "      <td>신진연구(총연구비5천이상~1.5억이하)</td>\n",
       "      <td>다입자계를 묘사하는 편미분방정식에 대한 연구</td>\n",
       "      <td>자연계에는 입자의 개수가 아주 큰 다양한 다입자계가 존재한다.  이런 다입자계의 효...</td>\n",
       "      <td>연구과제1. 무한입자계의 동역학 / 작용소(operator) 방정식에 대한 연구\\n...</td>\n",
       "      <td>본 연구는 물리학에서 중요한 대상인 다입자계를 묘사하는 모델방정식의 정당성을 보장하...</td>\n",
       "      <td>다체계 방정식,동역학의 안정성,양자역학,고전역학,평균장 극한,고전극한,비상대론적 극한</td>\n",
       "      <td>many particle system,stability of dynamics,qua...</td>\n",
       "    </tr>\n",
       "  </tbody>\n",
       "</table>\n",
       "</div>"
      ],
      "text/plain": [
       "    index  제출년도                 사업명     사업_부처명 계속과제여부                  내역사업명  \\\n",
       "0  174304  2016           경제협력권산업육성    산업통상자원부     신규                자동차융합부품   \n",
       "1  174305  2018  개인기초연구(과기정통부)(R&D)  과학기술정보통신부     계속  신진연구(총연구비5천이상~1.5억이하)   \n",
       "\n",
       "                                                 과제명  \\\n",
       "0  R-FSSW 기술 적용 경량 차체 부품 개발 및 품질 평가를 위한 64채널 C-SC...   \n",
       "1                           다입자계를 묘사하는 편미분방정식에 대한 연구   \n",
       "\n",
       "                                            요약문_연구목표  \\\n",
       "0  ○ 차체 점용접부의 품질 검사를 위한 64채널 무선 기반 C-Scan 탐촉자 개발\\...   \n",
       "1  자연계에는 입자의 개수가 아주 큰 다양한 다입자계가 존재한다.  이런 다입자계의 효...   \n",
       "\n",
       "                                            요약문_연구내용  \\\n",
       "0  ○ 1차년도\\n\\n    . 개발 탐촉 시스템의 성능 평가 위한 표준 시편 제작 시...   \n",
       "1  연구과제1. 무한입자계의 동역학 / 작용소(operator) 방정식에 대한 연구\\n...   \n",
       "\n",
       "                                            요약문_기대효과  \\\n",
       "0  ○ 기술적 파급효과\\n\\n  - 본 연구에서 개발된 R-FSSW 접합 기술은 기존 ...   \n",
       "1  본 연구는 물리학에서 중요한 대상인 다입자계를 묘사하는 모델방정식의 정당성을 보장하...   \n",
       "\n",
       "                                         요약문_한글키워드  \\\n",
       "0          마찰교반점용접, 비파괴 검사, 초음파 탐상, 씨 스캔, 용접 품질 평가   \n",
       "1  다체계 방정식,동역학의 안정성,양자역학,고전역학,평균장 극한,고전극한,비상대론적 극한   \n",
       "\n",
       "                                           요약문_영문키워드  \n",
       "0  Friction Stir Spot Welding, Non-destructive ev...  \n",
       "1  many particle system,stability of dynamics,qua...  "
      ]
     },
     "execution_count": 7,
     "metadata": {},
     "output_type": "execute_result"
    }
   ],
   "source": [
    "test.head(2)"
   ]
  },
  {
   "cell_type": "code",
   "execution_count": 8,
   "metadata": {},
   "outputs": [
    {
     "data": {
      "text/html": [
       "<div>\n",
       "<style scoped>\n",
       "    .dataframe tbody tr th:only-of-type {\n",
       "        vertical-align: middle;\n",
       "    }\n",
       "\n",
       "    .dataframe tbody tr th {\n",
       "        vertical-align: top;\n",
       "    }\n",
       "\n",
       "    .dataframe thead th {\n",
       "        text-align: right;\n",
       "    }\n",
       "</style>\n",
       "<table border=\"1\" class=\"dataframe\">\n",
       "  <thead>\n",
       "    <tr style=\"text-align: right;\">\n",
       "      <th></th>\n",
       "      <th>index</th>\n",
       "      <th>label</th>\n",
       "    </tr>\n",
       "  </thead>\n",
       "  <tbody>\n",
       "    <tr>\n",
       "      <th>0</th>\n",
       "      <td>174304</td>\n",
       "      <td>0</td>\n",
       "    </tr>\n",
       "    <tr>\n",
       "      <th>1</th>\n",
       "      <td>174305</td>\n",
       "      <td>0</td>\n",
       "    </tr>\n",
       "    <tr>\n",
       "      <th>2</th>\n",
       "      <td>174306</td>\n",
       "      <td>0</td>\n",
       "    </tr>\n",
       "    <tr>\n",
       "      <th>3</th>\n",
       "      <td>174307</td>\n",
       "      <td>0</td>\n",
       "    </tr>\n",
       "    <tr>\n",
       "      <th>4</th>\n",
       "      <td>174308</td>\n",
       "      <td>0</td>\n",
       "    </tr>\n",
       "    <tr>\n",
       "      <th>5</th>\n",
       "      <td>174309</td>\n",
       "      <td>0</td>\n",
       "    </tr>\n",
       "  </tbody>\n",
       "</table>\n",
       "</div>"
      ],
      "text/plain": [
       "    index  label\n",
       "0  174304      0\n",
       "1  174305      0\n",
       "2  174306      0\n",
       "3  174307      0\n",
       "4  174308      0\n",
       "5  174309      0"
      ]
     },
     "execution_count": 8,
     "metadata": {},
     "output_type": "execute_result"
    }
   ],
   "source": [
    "sample_submission.head(6)"
   ]
  },
  {
   "cell_type": "code",
   "execution_count": 9,
   "metadata": {},
   "outputs": [
    {
     "name": "stdout",
     "output_type": "stream",
     "text": [
      "(174304, 13)\n",
      "(43576, 12)\n",
      "(43576, 2)\n"
     ]
    }
   ],
   "source": [
    "#데이터 구조 파악\n",
    "print(train.shape)\n",
    "print(test.shape)\n",
    "print(sample_submission.shape)"
   ]
  },
  {
   "cell_type": "code",
   "execution_count": 12,
   "metadata": {},
   "outputs": [
    {
     "data": {
      "text/plain": [
       "0         24\n",
       "1          0\n",
       "2          0\n",
       "3          0\n",
       "4          0\n",
       "          ..\n",
       "174299     0\n",
       "174300     0\n",
       "174301     0\n",
       "174302    23\n",
       "174303     0\n",
       "Name: label, Length: 174304, dtype: int64"
      ]
     },
     "execution_count": 12,
     "metadata": {},
     "output_type": "execute_result"
    }
   ],
   "source": [
    "train.label #각 label을 기후기술분류체계와 mapping 한 것 (0~44 = 1~45)"
   ]
  },
  {
   "cell_type": "code",
   "execution_count": 11,
   "metadata": {},
   "outputs": [
    {
     "data": {
      "text/plain": [
       "label\n",
       "24      3520\n",
       "0     142571\n",
       "2        275\n",
       "25       810\n",
       "36      1060\n",
       "40       441\n",
       "19      4938\n",
       "27       620\n",
       "18      1550\n",
       "29      1028\n",
       "45      1137\n",
       "15       165\n",
       "31       922\n",
       "5       1698\n",
       "6         78\n",
       "22       148\n",
       "14      1672\n",
       "20      1059\n",
       "37       266\n",
       "43       351\n",
       "1       1261\n",
       "23      1840\n",
       "16       506\n",
       "8        339\n",
       "34       523\n",
       "10       658\n",
       "28       449\n",
       "21       496\n",
       "38       262\n",
       "26       316\n",
       "41        67\n",
       "12       268\n",
       "9        106\n",
       "17       154\n",
       "33       533\n",
       "13       575\n",
       "3        143\n",
       "39       202\n",
       "32       260\n",
       "4         57\n",
       "30       234\n",
       "11       200\n",
       "7        113\n",
       "35       291\n",
       "44        91\n",
       "42        51\n",
       "Name: count, dtype: int64"
      ]
     },
     "execution_count": 11,
     "metadata": {},
     "output_type": "execute_result"
    }
   ],
   "source": [
    "train.label.value_counts(sort=False) #각 label 개수"
   ]
  },
  {
   "cell_type": "code",
   "execution_count": 18,
   "metadata": {
    "scrolled": false
   },
   "outputs": [
    {
     "data": {
      "text/plain": [
       "0     0.817945\n",
       "1     0.007234\n",
       "2     0.001578\n",
       "3     0.000820\n",
       "4     0.000327\n",
       "5     0.009742\n",
       "6     0.000447\n",
       "7     0.000648\n",
       "8     0.001945\n",
       "9     0.000608\n",
       "10    0.003775\n",
       "11    0.001147\n",
       "12    0.001538\n",
       "13    0.003299\n",
       "14    0.009592\n",
       "15    0.000947\n",
       "16    0.002903\n",
       "17    0.000884\n",
       "18    0.008893\n",
       "19    0.028330\n",
       "20    0.006076\n",
       "21    0.002846\n",
       "22    0.000849\n",
       "23    0.010556\n",
       "24    0.020195\n",
       "25    0.004647\n",
       "26    0.001813\n",
       "27    0.003557\n",
       "28    0.002576\n",
       "29    0.005898\n",
       "30    0.001342\n",
       "31    0.005290\n",
       "32    0.001492\n",
       "33    0.003058\n",
       "34    0.003001\n",
       "35    0.001669\n",
       "36    0.006081\n",
       "37    0.001526\n",
       "38    0.001503\n",
       "39    0.001159\n",
       "40    0.002530\n",
       "41    0.000384\n",
       "42    0.000293\n",
       "43    0.002014\n",
       "44    0.000522\n",
       "45    0.006523\n",
       "Name: label, dtype: float64"
      ]
     },
     "execution_count": 18,
     "metadata": {},
     "output_type": "execute_result"
    }
   ],
   "source": [
    "#심각한 불균형 데이터임을 알 수 있습니다.\n",
    "train.label.value_counts(sort=False)/len(train) #내림차순 정렬,0 label에 속한 데이터가 많음을 알 수 있음"
   ]
  },
  {
   "cell_type": "markdown",
   "metadata": {},
   "source": [
    "### Visualization"
   ]
  },
  {
   "cell_type": "code",
   "execution_count": 13,
   "metadata": {},
   "outputs": [
    {
     "name": "stdout",
     "output_type": "stream",
     "text": [
      "과제명 길이 최댓값: 229\n",
      "과제명 길이 최솟값: 2\n",
      "과제명 길이 평균값: 35.84252225995961\n",
      "과제명 길이 중간값: 34.0\n"
     ]
    },
    {
     "data": {
      "image/png": "[encoded data removed]",
      "text/plain": [
       "<Figure size 640x480 with 1 Axes>"
      ]
     },
     "metadata": {},
     "output_type": "display_data"
    },
    {
     "data": {
      "image/png": "[encoded data removed]",
      "text/plain": [
       "<Figure size 1200x500 with 1 Axes>"
      ]
     },
     "metadata": {},
     "output_type": "display_data"
    }
   ],
   "source": [
    "#각 과제명의 길이 분석으로 데이터 파악\n",
    "length=train['과제명'].astype(str).apply(len)\n",
    "plt.hist(length, bins=50, alpha=0.5, color='r', label='word') # 히스토그램 그리기 (bins = 구간 개수, label = 해당 그래프 데이터 레이블)\n",
    "plt.title('histogram of length of task_name')\n",
    "#boxplot 그리기\n",
    "plt.figure(figsize=(12, 5))\n",
    "plt.boxplot(length, labels=['counts'], showmeans=True)\n",
    "print('과제명 길이 최댓값: {}'.format(np.max(length)))\n",
    "print('과제명 길이 최솟값: {}'.format(np.min(length)))\n",
    "print('과제명 길이 평균값: {}'.format(np.mean(length)))\n",
    "print('과제명 길이 중간값: {}'.format(np.median(length)))"
   ]
  },
  {
   "cell_type": "code",
   "execution_count": 14,
   "metadata": {},
   "outputs": [
    {
     "name": "stdout",
     "output_type": "stream",
     "text": [
      "요약문_연구목표 길이 최댓값: 3951\n",
      "요약문_연구목표 길이 최솟값: 1\n",
      "요약문_연구목표 길이 평균값: 318.1008066366807\n",
      "요약문_연구목표 길이 중간값: 249.0\n"
     ]
    },
    {
     "data": {
      "image/png": "[encoded data removed]",
      "text/plain": [
       "<Figure size 640x480 with 1 Axes>"
      ]
     },
     "metadata": {},
     "output_type": "display_data"
    },
    {
     "data": {
      "image/png": "[encoded data removed]",
      "text/plain": [
       "<Figure size 1200x500 with 1 Axes>"
      ]
     },
     "metadata": {},
     "output_type": "display_data"
    }
   ],
   "source": [
    "# TODO: 주어진 데이터의 '요약문_연구목표' 길이에 대한 히스토그램을 그리세요.\n",
    "length = train['요약문_연구목표'].astype(str).apply(len)\n",
    "plt.hist(length, bins=50, alpha=0.5, color='r', label='word') #bins = 구간 개수, label=해당 그래프 데이터 레이블 \n",
    "plt.title('histogram of length of summary_object')\n",
    "# TODO: 주어진 데이터의 '요약문_연구목표' 길이에 대한 boxplot을 그리시오.\n",
    "plt.figure(figsize=(12, 5))\n",
    "plt.boxplot(length, labels=['counts'], showmeans=True) #label은 counts, showmeans= True\n",
    "# TODO: 길이에 대한 통계량 출력\n",
    "print('요약문_연구목표 길이 최댓값: {}'.format(np.max(length)))\n",
    "print('요약문_연구목표 길이 최솟값: {}'.format(np.min(length)))\n",
    "print('요약문_연구목표 길이 평균값: {}'.format(np.mean(length)))\n",
    "print('요약문_연구목표 길이 중간값: {}'.format(np.median(length)))"
   ]
  },
  {
   "cell_type": "code",
   "execution_count": 16,
   "metadata": {},
   "outputs": [
    {
     "name": "stdout",
     "output_type": "stream",
     "text": [
      "요약문_연구내용 길이 최대값: 3999\n",
      "요약문_연구내용 길이 최솟값: 1\n",
      "요약문_연구내용 길이 평균값: 699.2930282724435\n",
      "요약문_연구내용 길이 중간값: 597.0\n"
     ]
    },
    {
     "data": {
      "image/png": "[encoded data removed]",
      "text/plain": [
       "<Figure size 640x480 with 1 Axes>"
      ]
     },
     "metadata": {},
     "output_type": "display_data"
    },
    {
     "data": {
      "image/png": "[encoded data removed]",
      "text/plain": [
       "<Figure size 1200x500 with 1 Axes>"
      ]
     },
     "metadata": {},
     "output_type": "display_data"
    }
   ],
   "source": [
    "# TODO: 주어진 데이터의 '요약문_연구내용' 길이에 대한 히스토그램을 그리세요.\n",
    "length = train['요약문_연구내용'].astype(str).apply(len)\n",
    "plt.hist(length, bins=50, color='r', label='word')\n",
    "plt.title('histogram of length of summary_content')\n",
    "# TODO: 주어진 데이터의 '요약문_연구내용' 길이에 대한 상자 그림을 그리세요.\n",
    "plt.figure(figsize=(12, 5))\n",
    "plt.boxplot(length, labels=['count'], showmeans=True)\n",
    "# 길이에 대한 통계량 출력\n",
    "print('요약문_연구내용 길이 최대값: {}'.format(np.max(length)))\n",
    "print('요약문_연구내용 길이 최솟값: {}'.format(np.min(length)))\n",
    "print('요약문_연구내용 길이 평균값: {}'.format(np.mean(length)))\n",
    "print('요약문_연구내용 길이 중간값: {}'.format(np.median(length)))"
   ]
  },
  {
   "cell_type": "code",
   "execution_count": 17,
   "metadata": {},
   "outputs": [
    {
     "name": "stdout",
     "output_type": "stream",
     "text": [
      "요약문_기대효과 길이 최댓값: 3649\n",
      "요약문_기대효과 길이 최솟값: 1\n",
      "요약문_기대효과 길이 평균값: 400.4864374885258\n",
      "요약문_기대효과 길이 중간값: 329.0\n"
     ]
    },
    {
     "data": {
      "image/png": "[encoded data removed]",
      "text/plain": [
       "<Figure size 640x480 with 1 Axes>"
      ]
     },
     "metadata": {},
     "output_type": "display_data"
    },
    {
     "data": {
      "image/png": "[encoded data removed]",
      "text/plain": [
       "<Figure size 1200x500 with 1 Axes>"
      ]
     },
     "metadata": {},
     "output_type": "display_data"
    }
   ],
   "source": [
    "length=train['요약문_기대효과'].astype(str).apply(len)\n",
    "plt.hist(length, bins=50, alpha=0.5, color='r', label='word')\n",
    "plt.title('histogram of length of summary_effect')\n",
    "plt.figure(figsize=(12, 5))\n",
    "plt.boxplot(length, labels=['counts'], showmeans=True)\n",
    "print('요약문_기대효과 길이 최댓값: {}'.format(np.max(length)))\n",
    "print('요약문_기대효과 길이 최솟값: {}'.format(np.min(length)))\n",
    "print('요약문_기대효과 길이 평균값: {}'.format(np.mean(length)))\n",
    "print('요약문_기대효과 길이 중간값: {}'.format(np.median(length)))"
   ]
  },
  {
   "cell_type": "markdown",
   "metadata": {},
   "source": [
    "# **3. 데이터 전처리**"
   ]
  },
  {
   "cell_type": "markdown",
   "metadata": {},
   "source": [
    "여기서는 label과 과제명만을 이용해 분류\n",
    "//물론 정확하지않지만 베이스라인을 제공만하기 위해"
   ]
  },
  {
   "cell_type": "code",
   "execution_count": 21,
   "metadata": {},
   "outputs": [],
   "source": [
    "train=train[['과제명','label']] #과제명과 label만을 이용해 분류할 것임\n",
    "test=test[['과제명']]"
   ]
  },
  {
   "cell_type": "code",
   "execution_count": 20,
   "metadata": {},
   "outputs": [
    {
     "data": {
      "text/html": [
       "<div>\n",
       "<style scoped>\n",
       "    .dataframe tbody tr th:only-of-type {\n",
       "        vertical-align: middle;\n",
       "    }\n",
       "\n",
       "    .dataframe tbody tr th {\n",
       "        vertical-align: top;\n",
       "    }\n",
       "\n",
       "    .dataframe thead th {\n",
       "        text-align: right;\n",
       "    }\n",
       "</style>\n",
       "<table border=\"1\" class=\"dataframe\">\n",
       "  <thead>\n",
       "    <tr style=\"text-align: right;\">\n",
       "      <th></th>\n",
       "      <th>과제명</th>\n",
       "      <th>label</th>\n",
       "    </tr>\n",
       "  </thead>\n",
       "  <tbody>\n",
       "    <tr>\n",
       "      <th>0</th>\n",
       "      <td>유전정보를 활용한 새로운 해충 분류군 동정기술 개발</td>\n",
       "      <td>24</td>\n",
       "    </tr>\n",
       "    <tr>\n",
       "      <th>1</th>\n",
       "      <td>대장암의 TRAIL 내성 표적 인자 발굴 및 TRAIL 반응 예측 유전자 지도 구축...</td>\n",
       "      <td>0</td>\n",
       "    </tr>\n",
       "    <tr>\n",
       "      <th>2</th>\n",
       "      <td>비목질계 셀룰로오스 식물자원을 활용한 기능성 부직포 및 고부가가치 뷰티케어 faci...</td>\n",
       "      <td>0</td>\n",
       "    </tr>\n",
       "    <tr>\n",
       "      <th>3</th>\n",
       "      <td>소화기 암 진단용 분자영상 형광프로브 개발</td>\n",
       "      <td>0</td>\n",
       "    </tr>\n",
       "    <tr>\n",
       "      <th>4</th>\n",
       "      <td>위암환자의 항암제반응예측을 위한 BRCA 발현검사</td>\n",
       "      <td>0</td>\n",
       "    </tr>\n",
       "    <tr>\n",
       "      <th>...</th>\n",
       "      <td>...</td>\n",
       "      <td>...</td>\n",
       "    </tr>\n",
       "    <tr>\n",
       "      <th>174299</th>\n",
       "      <td>혈관내막 증식을 치료하기 위한 표적분자 발굴</td>\n",
       "      <td>0</td>\n",
       "    </tr>\n",
       "    <tr>\n",
       "      <th>174300</th>\n",
       "      <td>삼킴곤란 개선을 위한 물성조절 식품시스템에서의 유동층과립 복합소재의 유변물성 변화 ...</td>\n",
       "      <td>0</td>\n",
       "    </tr>\n",
       "    <tr>\n",
       "      <th>174301</th>\n",
       "      <td>식물 유전체 정보 고도화 및 핵심 유전자 군 진화연구</td>\n",
       "      <td>0</td>\n",
       "    </tr>\n",
       "    <tr>\n",
       "      <th>174302</th>\n",
       "      <td>콩 유전자원 내건성, 내습성 대량평가 체계구축 및 자원선발</td>\n",
       "      <td>23</td>\n",
       "    </tr>\n",
       "    <tr>\n",
       "      <th>174303</th>\n",
       "      <td>광학적 위상 제어 기법을 적용한 디지털 홀로그래피 현미경 시스템 개발</td>\n",
       "      <td>0</td>\n",
       "    </tr>\n",
       "  </tbody>\n",
       "</table>\n",
       "<p>174304 rows × 2 columns</p>\n",
       "</div>"
      ],
      "text/plain": [
       "                                                      과제명  label\n",
       "0                            유전정보를 활용한 새로운 해충 분류군 동정기술 개발     24\n",
       "1       대장암의 TRAIL 내성 표적 인자 발굴 및 TRAIL 반응 예측 유전자 지도 구축...      0\n",
       "2       비목질계 셀룰로오스 식물자원을 활용한 기능성 부직포 및 고부가가치 뷰티케어 faci...      0\n",
       "3                                 소화기 암 진단용 분자영상 형광프로브 개발      0\n",
       "4                             위암환자의 항암제반응예측을 위한 BRCA 발현검사      0\n",
       "...                                                   ...    ...\n",
       "174299                           혈관내막 증식을 치료하기 위한 표적분자 발굴      0\n",
       "174300  삼킴곤란 개선을 위한 물성조절 식품시스템에서의 유동층과립 복합소재의 유변물성 변화 ...      0\n",
       "174301                      식물 유전체 정보 고도화 및 핵심 유전자 군 진화연구      0\n",
       "174302                   콩 유전자원 내건성, 내습성 대량평가 체계구축 및 자원선발     23\n",
       "174303             광학적 위상 제어 기법을 적용한 디지털 홀로그래피 현미경 시스템 개발      0\n",
       "\n",
       "[174304 rows x 2 columns]"
      ]
     },
     "execution_count": 20,
     "metadata": {},
     "output_type": "execute_result"
    }
   ],
   "source": [
    "train"
   ]
  },
  {
   "cell_type": "code",
   "execution_count": 22,
   "metadata": {},
   "outputs": [
    {
     "data": {
      "text/html": [
       "<div>\n",
       "<style scoped>\n",
       "    .dataframe tbody tr th:only-of-type {\n",
       "        vertical-align: middle;\n",
       "    }\n",
       "\n",
       "    .dataframe tbody tr th {\n",
       "        vertical-align: top;\n",
       "    }\n",
       "\n",
       "    .dataframe thead th {\n",
       "        text-align: right;\n",
       "    }\n",
       "</style>\n",
       "<table border=\"1\" class=\"dataframe\">\n",
       "  <thead>\n",
       "    <tr style=\"text-align: right;\">\n",
       "      <th></th>\n",
       "      <th>과제명</th>\n",
       "    </tr>\n",
       "  </thead>\n",
       "  <tbody>\n",
       "    <tr>\n",
       "      <th>0</th>\n",
       "      <td>R-FSSW 기술 적용 경량 차체 부품 개발 및 품질 평가를 위한 64채널 C-SC...</td>\n",
       "    </tr>\n",
       "    <tr>\n",
       "      <th>1</th>\n",
       "      <td>다입자계를 묘사하는 편미분방정식에 대한 연구</td>\n",
       "    </tr>\n",
       "  </tbody>\n",
       "</table>\n",
       "</div>"
      ],
      "text/plain": [
       "                                                 과제명\n",
       "0  R-FSSW 기술 적용 경량 차체 부품 개발 및 품질 평가를 위한 64채널 C-SC...\n",
       "1                           다입자계를 묘사하는 편미분방정식에 대한 연구"
      ]
     },
     "execution_count": 22,
     "metadata": {},
     "output_type": "execute_result"
    }
   ],
   "source": [
    "test.head(2)"
   ]
  },
  {
   "cell_type": "code",
   "execution_count": 23,
   "metadata": {},
   "outputs": [],
   "source": [
    "#1. re.sub 한글 및 공백을 제외한 문자 제거\n",
    "#2. okt 객체를 활용해 형태소 단위로 나눔\n",
    "#3. remove_stopwords로 불용어 제거 \n",
    "def preprocessing(text, okt, remove_stopwords=False, stop_words=[]):\n",
    "    #TODO : 한글 및 공백을 제외한 문자 제거 \n",
    "    text = re.sub(r'[^가-힣\\s]','',text) #한글 및 공백제외 문자 제거 = r은 제거 ^제외 (한글) & 공백\n",
    "    #형태소 단위로 쪼개기 (토큰화)\n",
    "    word_text=okt.morphs(text, stem=True) #형태소 단위로 나누기 stem=True -> 각 단어에서 어간 추출하기 (각 형태소 어간 단위로 반환)\n",
    "    if remove_stopwords:\n",
    "        word_review=[token for token in word_text if not token in stop_words]\n",
    "    return word_review"
   ]
  },
  {
   "cell_type": "code",
   "execution_count": 24,
   "metadata": {},
   "outputs": [],
   "source": [
    "stop_words=['은','는','이','가', '하','아','것','들','의','있','되','수','보','주','등','한']\n",
    "okt=Okt()\n",
    "clean_train_text=[]\n",
    "clean_test_text=[]"
   ]
  },
  {
   "cell_type": "code",
   "execution_count": 25,
   "metadata": {},
   "outputs": [
    {
     "name": "stderr",
     "output_type": "stream",
     "text": [
      "100%|█████████████████████████████████| 174304/174304 [01:57<00:00, 1484.03it/s]\n"
     ]
    }
   ],
   "source": [
    "#시간이 많이 걸립니다.\n",
    "for text in tqdm.tqdm(train['과제명']):\n",
    "    try:\n",
    "        clean_train_text.append(preprocessing(text, okt, remove_stopwords=True, stop_words=stop_words))\n",
    "    except:\n",
    "        clean_train_text.append([])\n",
    "    "
   ]
  },
  {
   "cell_type": "code",
   "execution_count": 29,
   "metadata": {},
   "outputs": [
    {
     "name": "stderr",
     "output_type": "stream",
     "text": [
      "100%|██████████| 43576/43576 [12:25<00:00, 58.44it/s]\n"
     ]
    }
   ],
   "source": [
    "for text in tqdm.tqdm(test['과제명']):\n",
    "    if type(text) == str:\n",
    "        clean_test_text.append(preprocessing(text, okt, remove_stopwords=True, stop_words=stop_words))\n",
    "    else:\n",
    "        clean_test_text.append([])"
   ]
  },
  {
   "cell_type": "code",
   "execution_count": 30,
   "metadata": {},
   "outputs": [
    {
     "data": {
      "text/plain": [
       "174304"
      ]
     },
     "execution_count": 30,
     "metadata": {},
     "output_type": "execute_result"
    }
   ],
   "source": [
    "len(clean_train_text)"
   ]
  },
  {
   "cell_type": "code",
   "execution_count": 31,
   "metadata": {},
   "outputs": [
    {
     "data": {
      "text/plain": [
       "43576"
      ]
     },
     "execution_count": 31,
     "metadata": {},
     "output_type": "execute_result"
    }
   ],
   "source": [
    "len(clean_test_text)"
   ]
  },
  {
   "cell_type": "code",
   "execution_count": 26,
   "metadata": {},
   "outputs": [],
   "source": [
    "from sklearn.feature_extraction.text import CountVectorizer\n",
    "\n",
    "#tokenizer 인자에는 list를 받아서 그대로 내보내는 함수를 넣어줍니다. 또한 소문자화를 하지 않도록 설정해야 에러가 나지 않습니다.\n",
    "\n",
    "# TODO: CountVectorizer 객체 생성 (인자: tokenizer, lowercase)\n",
    "vectorizer = CountVectorizer(tokenizer=lambda x: x, lowercase=False)\n",
    "# TODO: 학습 데이터의 특성 추출\n",
    "train_features = vectorizer.fit_transform(clean_train_text)\n",
    "# TODO: 테스트 데이터의 특성 추출 (fit_transform을 사용하지 않아야 data leakage를 방지합니다)\n",
    "test_features = vectorizer.transform(clean_test_text)"
   ]
  },
  {
   "cell_type": "code",
   "execution_count": 60,
   "metadata": {},
   "outputs": [
    {
     "data": {
      "text/plain": [
       "<174304x30402 sparse matrix of type '<class 'numpy.int64'>'\n",
       "\twith 2078154 stored elements in Compressed Sparse Row format>"
      ]
     },
     "execution_count": 60,
     "metadata": {},
     "output_type": "execute_result"
    }
   ],
   "source": [
    "train_features"
   ]
  },
  {
   "cell_type": "code",
   "execution_count": 61,
   "metadata": {},
   "outputs": [
    {
     "data": {
      "text/plain": [
       "<43576x30402 sparse matrix of type '<class 'numpy.int64'>'\n",
       "\twith 518549 stored elements in Compressed Sparse Row format>"
      ]
     },
     "execution_count": 61,
     "metadata": {},
     "output_type": "execute_result"
    }
   ],
   "source": [
    "test_features"
   ]
  },
  {
   "cell_type": "markdown",
   "metadata": {},
   "source": [
    "# **4. 모델링**"
   ]
  },
  {
   "cell_type": "code",
   "execution_count": 67,
   "metadata": {},
   "outputs": [],
   "source": [
    "#훈련 데이터 셋과 검증 데이터 셋으로 분리\n",
    "TEST_SIZE=0.2\n",
    "RANDOM_SEED=42\n",
    "\n",
    "train_x, eval_x, train_y, eval_y=train_test_split(train_features, train['label'], test_size=TEST_SIZE, random_state=RANDOM_SEED)"
   ]
  },
  {
   "cell_type": "code",
   "execution_count": 69,
   "metadata": {},
   "outputs": [
    {
     "data": {
      "text/plain": [
       "RandomForestClassifier()"
      ]
     },
     "execution_count": 69,
     "metadata": {},
     "output_type": "execute_result"
    }
   ],
   "source": [
    "#랜덤포레스트로 모델링\n",
    "from sklearn.ensemble import RandomForestClassifier\n",
    "# TODO: RandomForestClassifier 모델 생성 (결정 트리 개수 100개)\n",
    "forest=RandomForestClassifier(n_estimators=100)\n",
    "# TODO: 학습 데이터로 모델 훈련 (시간이 굉장히 오래 걸립니다)\n",
    "forest.fit(train_x, train_y)"
   ]
  },
  {
   "cell_type": "code",
   "execution_count": 71,
   "metadata": {},
   "outputs": [
    {
     "data": {
      "text/plain": [
       "0.9208571182696996"
      ]
     },
     "execution_count": 71,
     "metadata": {},
     "output_type": "execute_result"
    }
   ],
   "source": [
    "#모델 검증\n",
    "forest.score(eval_x, eval_y)"
   ]
  },
  {
   "cell_type": "markdown",
   "metadata": {},
   "source": [
    "# **5. 예측 및 제출**"
   ]
  },
  {
   "cell_type": "code",
   "execution_count": 72,
   "metadata": {},
   "outputs": [
    {
     "data": {
      "text/plain": [
       "array([0, 0, 0, ..., 2, 0, 0])"
      ]
     },
     "execution_count": 72,
     "metadata": {},
     "output_type": "execute_result"
    }
   ],
   "source": [
    "# TODO: 테스트 데이터에 대한 렌덤포레스트 모델 예측 \n",
    "forest.predict(test_features)"
   ]
  },
  {
   "cell_type": "code",
   "execution_count": 75,
   "metadata": {},
   "outputs": [],
   "source": [
    "# TODO: 샘플 제출용 데이터프레임에 예측 결과 업데이트 (sample_submission df 생성)\n",
    "sample_submission['label'] = forest.predict(test_features)"
   ]
  },
  {
   "cell_type": "code",
   "execution_count": 76,
   "metadata": {},
   "outputs": [
    {
     "data": {
      "text/html": [
       "<div>\n",
       "<style scoped>\n",
       "    .dataframe tbody tr th:only-of-type {\n",
       "        vertical-align: middle;\n",
       "    }\n",
       "\n",
       "    .dataframe tbody tr th {\n",
       "        vertical-align: top;\n",
       "    }\n",
       "\n",
       "    .dataframe thead th {\n",
       "        text-align: right;\n",
       "    }\n",
       "</style>\n",
       "<table border=\"1\" class=\"dataframe\">\n",
       "  <thead>\n",
       "    <tr style=\"text-align: right;\">\n",
       "      <th></th>\n",
       "      <th>index</th>\n",
       "      <th>label</th>\n",
       "    </tr>\n",
       "  </thead>\n",
       "  <tbody>\n",
       "    <tr>\n",
       "      <th>0</th>\n",
       "      <td>174304</td>\n",
       "      <td>0</td>\n",
       "    </tr>\n",
       "    <tr>\n",
       "      <th>1</th>\n",
       "      <td>174305</td>\n",
       "      <td>0</td>\n",
       "    </tr>\n",
       "    <tr>\n",
       "      <th>2</th>\n",
       "      <td>174306</td>\n",
       "      <td>0</td>\n",
       "    </tr>\n",
       "    <tr>\n",
       "      <th>3</th>\n",
       "      <td>174307</td>\n",
       "      <td>0</td>\n",
       "    </tr>\n",
       "    <tr>\n",
       "      <th>4</th>\n",
       "      <td>174308</td>\n",
       "      <td>0</td>\n",
       "    </tr>\n",
       "    <tr>\n",
       "      <th>...</th>\n",
       "      <td>...</td>\n",
       "      <td>...</td>\n",
       "    </tr>\n",
       "    <tr>\n",
       "      <th>43571</th>\n",
       "      <td>217875</td>\n",
       "      <td>0</td>\n",
       "    </tr>\n",
       "    <tr>\n",
       "      <th>43572</th>\n",
       "      <td>217876</td>\n",
       "      <td>0</td>\n",
       "    </tr>\n",
       "    <tr>\n",
       "      <th>43573</th>\n",
       "      <td>217877</td>\n",
       "      <td>2</td>\n",
       "    </tr>\n",
       "    <tr>\n",
       "      <th>43574</th>\n",
       "      <td>217878</td>\n",
       "      <td>0</td>\n",
       "    </tr>\n",
       "    <tr>\n",
       "      <th>43575</th>\n",
       "      <td>217879</td>\n",
       "      <td>0</td>\n",
       "    </tr>\n",
       "  </tbody>\n",
       "</table>\n",
       "<p>43576 rows × 2 columns</p>\n",
       "</div>"
      ],
      "text/plain": [
       "        index  label\n",
       "0      174304      0\n",
       "1      174305      0\n",
       "2      174306      0\n",
       "3      174307      0\n",
       "4      174308      0\n",
       "...       ...    ...\n",
       "43571  217875      0\n",
       "43572  217876      0\n",
       "43573  217877      2\n",
       "43574  217878      0\n",
       "43575  217879      0\n",
       "\n",
       "[43576 rows x 2 columns]"
      ]
     },
     "execution_count": 76,
     "metadata": {},
     "output_type": "execute_result"
    }
   ],
   "source": [
    "sample_submission['label'] = test_predictions"
   ]
  },
  {
   "cell_type": "code",
   "execution_count": 77,
   "metadata": {},
   "outputs": [],
   "source": [
    "sample_submission.to_csv('rf_baseline.csv', index=False)"
   ]
  }
 ],
 "metadata": {
  "kernelspec": {
   "display_name": "Python 3 (ipykernel)",
   "language": "python",
   "name": "python3"
  },
  "language_info": {
   "codemirror_mode": {
    "name": "ipython",
    "version": 3
   },
   "file_extension": ".py",
   "mimetype": "text/x-python",
   "name": "python",
   "nbconvert_exporter": "python",
   "pygments_lexer": "ipython3",
   "version": "3.11.4"
  }
 },
 "nbformat": 4,
 "nbformat_minor": 4
}
