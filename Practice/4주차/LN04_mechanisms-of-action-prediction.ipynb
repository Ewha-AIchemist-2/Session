{
 "cells": [
  {
   "cell_type": "markdown",
   "metadata": {
    "papermill": {
     "duration": 0.013802,
     "end_time": "2023-10-30T13:45:55.304128",
     "exception": false,
     "start_time": "2023-10-30T13:45:55.290326",
     "status": "completed"
    },
    "tags": []
   },
   "source": [
    "## Mechanisms of Action"
   ]
  },
  {
   "cell_type": "code",
   "execution_count": 1,
   "metadata": {
    "_cell_guid": "b1076dfc-b9ad-4769-8c92-a6c4dae69d19",
    "_uuid": "8f2839f25d086af736a60e9eeb907d3b93b6e0e5",
    "execution": {
     "iopub.execute_input": "2023-10-30T13:45:55.335987Z",
     "iopub.status.busy": "2023-10-30T13:45:55.335327Z",
     "iopub.status.idle": "2023-10-30T13:45:56.875764Z",
     "shell.execute_reply": "2023-10-30T13:45:56.875038Z",
     "shell.execute_reply.started": "2023-10-30T13:15:41.171480Z"
    },
    "papermill": {
     "duration": 1.559048,
     "end_time": "2023-10-30T13:45:56.875880",
     "exception": false,
     "start_time": "2023-10-30T13:45:55.316832",
     "status": "completed"
    },
    "tags": []
   },
   "outputs": [],
   "source": [
    "import numpy as np # linear algebra\n",
    "import pandas as pd # data processing, CSV file I/O (e.g. pd.read_csv)\n",
    "\n",
    "from xgboost import XGBClassifier\n",
    "from sklearn.model_selection import KFold\n",
    "from category_encoders import CountEncoder\n",
    "from sklearn.pipeline import Pipeline\n",
    "from sklearn.metrics import log_loss\n",
    "\n",
    "import matplotlib.pyplot as plt\n",
    "\n",
    "from sklearn.multioutput import MultiOutputClassifier\n",
    "\n",
    "import os\n",
    "import warnings\n",
    "warnings.filterwarnings('ignore')"
   ]
  },
  {
   "cell_type": "markdown",
   "metadata": {
    "papermill": {
     "duration": 0.012518,
     "end_time": "2023-10-30T13:45:56.901334",
     "exception": false,
     "start_time": "2023-10-30T13:45:56.888816",
     "status": "completed"
    },
    "tags": []
   },
   "source": [
    "### Framing as a binary classification problem"
   ]
  },
  {
   "cell_type": "code",
   "execution_count": 2,
   "metadata": {
    "execution": {
     "iopub.execute_input": "2023-10-30T13:45:56.931923Z",
     "iopub.status.busy": "2023-10-30T13:45:56.930971Z",
     "iopub.status.idle": "2023-10-30T13:45:56.933860Z",
     "shell.execute_reply": "2023-10-30T13:45:56.933236Z",
     "shell.execute_reply.started": "2023-10-30T13:15:44.592882Z"
    },
    "papermill": {
     "duration": 0.020164,
     "end_time": "2023-10-30T13:45:56.933958",
     "exception": false,
     "start_time": "2023-10-30T13:45:56.913794",
     "status": "completed"
    },
    "tags": []
   },
   "outputs": [],
   "source": [
    "SEED = 42\n",
    "NFOLDS = 5\n",
    "DATA_DIR = '/kaggle/input/lish-moa/'\n",
    "np.random.seed(SEED)"
   ]
  },
  {
   "cell_type": "markdown",
   "metadata": {
    "papermill": {
     "duration": 0.012621,
     "end_time": "2023-10-30T13:45:56.959378",
     "exception": false,
     "start_time": "2023-10-30T13:45:56.946757",
     "status": "completed"
    },
    "tags": []
   },
   "source": [
    "#### 훈련 세트 테스트 세트 나누기"
   ]
  },
  {
   "cell_type": "code",
   "execution_count": 3,
   "metadata": {
    "_cell_guid": "79c7e3d0-c299-4dcb-8224-4455121ee9b0",
    "_uuid": "d629ff2d2480ee46fbb7e2d37f6b5fab8052498a",
    "execution": {
     "iopub.execute_input": "2023-10-30T13:45:56.991908Z",
     "iopub.status.busy": "2023-10-30T13:45:56.991307Z",
     "iopub.status.idle": "2023-10-30T13:46:05.126551Z",
     "shell.execute_reply": "2023-10-30T13:46:05.125961Z",
     "shell.execute_reply.started": "2023-10-30T13:15:47.269121Z"
    },
    "papermill": {
     "duration": 8.154685,
     "end_time": "2023-10-30T13:46:05.126694",
     "exception": false,
     "start_time": "2023-10-30T13:45:56.972009",
     "status": "completed"
    },
    "tags": []
   },
   "outputs": [],
   "source": [
    "# 데이터 세트 불러오기 [] = 코드 빈칸!\n",
    "# train = [            ](DATA_DIR + 'train_features.csv')\n",
    "# targets = [            ](DATA_DIR + 'train_targets_scored.csv')\n",
    "\n",
    "# test = [            ](DATA_DIR + 'test_features.csv')\n",
    "# sub = [            ](DATA_DIR + 'sample_submission.csv')\n",
    "\n",
    "X = train.iloc[:,1:].to_numpy()\n",
    "X_test = test.iloc[:,1:].to_numpy()\n",
    "y = targets.iloc[:,1:].to_numpy() "
   ]
  },
  {
   "cell_type": "markdown",
   "metadata": {
    "papermill": {
     "duration": 0.012356,
     "end_time": "2023-10-30T13:46:05.153753",
     "exception": false,
     "start_time": "2023-10-30T13:46:05.141397",
     "status": "completed"
    },
    "tags": []
   },
   "source": [
    "#### MultiOutputClassiifier"
   ]
  },
  {
   "cell_type": "code",
   "execution_count": 4,
   "metadata": {
    "execution": {
     "iopub.execute_input": "2023-10-30T13:46:05.184518Z",
     "iopub.status.busy": "2023-10-30T13:46:05.183793Z",
     "iopub.status.idle": "2023-10-30T13:46:05.186703Z",
     "shell.execute_reply": "2023-10-30T13:46:05.186068Z",
     "shell.execute_reply.started": "2023-10-30T13:15:55.657030Z"
    },
    "papermill": {
     "duration": 0.020464,
     "end_time": "2023-10-30T13:46:05.186804",
     "exception": false,
     "start_time": "2023-10-30T13:46:05.166340",
     "status": "completed"
    },
    "tags": []
   },
   "outputs": [],
   "source": [
    "classifier = MultiOutputClassifier(XGBClassifier(tree_method='gpu_hist'))\n",
    "\n",
    "clf = Pipeline([('encode', CountEncoder(cols=[0, 2])),\n",
    "                ('classify', classifier)\n",
    "               ])"
   ]
  },
  {
   "cell_type": "markdown",
   "metadata": {
    "papermill": {
     "duration": 0.012394,
     "end_time": "2023-10-30T13:46:05.211958",
     "exception": false,
     "start_time": "2023-10-30T13:46:05.199564",
     "status": "completed"
    },
    "tags": []
   },
   "source": [
    "#### XGBClassifier 하이퍼 파라미터 설정"
   ]
  },
  {
   "cell_type": "code",
   "execution_count": 5,
   "metadata": {
    "execution": {
     "iopub.execute_input": "2023-10-30T13:46:05.243690Z",
     "iopub.status.busy": "2023-10-30T13:46:05.242871Z",
     "iopub.status.idle": "2023-10-30T13:46:05.245675Z",
     "shell.execute_reply": "2023-10-30T13:46:05.245066Z",
     "shell.execute_reply.started": "2023-10-30T13:15:58.071179Z"
    },
    "papermill": {
     "duration": 0.021031,
     "end_time": "2023-10-30T13:46:05.245778",
     "exception": false,
     "start_time": "2023-10-30T13:46:05.224747",
     "status": "completed"
    },
    "tags": []
   },
   "outputs": [],
   "source": [
    "params = {'classify__estimator__colsample_bytree': 0.6522,\n",
    "          'classify__estimator__gamma': 3.6975,\n",
    "          'classify__estimator__learning_rate': 0.0503,\n",
    "          'classify__estimator__max_delta_step': 2.0706,\n",
    "          'classify__estimator__max_depth': 10,\n",
    "          'classify__estimator__min_child_weight': 31.5800,\n",
    "          'classify__estimator__n_estimators': 166,\n",
    "          'classify__estimator__subsample': 0.8639\n",
    "         }\n",
    "\n",
    "_ = clf.set_params(**params)"
   ]
  },
  {
   "cell_type": "markdown",
   "metadata": {
    "papermill": {
     "duration": 0.012306,
     "end_time": "2023-10-30T13:46:05.270517",
     "exception": false,
     "start_time": "2023-10-30T13:46:05.258211",
     "status": "completed"
    },
    "tags": []
   },
   "source": [
    "### Train the model"
   ]
  },
  {
   "cell_type": "markdown",
   "metadata": {
    "papermill": {
     "duration": 0.012343,
     "end_time": "2023-10-30T13:46:05.295582",
     "exception": false,
     "start_time": "2023-10-30T13:46:05.283239",
     "status": "completed"
    },
    "tags": []
   },
   "source": [
    "#### Kfold 교차 검증"
   ]
  },
  {
   "cell_type": "code",
   "execution_count": 6,
   "metadata": {
    "execution": {
     "iopub.execute_input": "2023-10-30T13:46:05.332667Z",
     "iopub.status.busy": "2023-10-30T13:46:05.328382Z",
     "iopub.status.idle": "2023-10-30T14:09:12.546787Z",
     "shell.execute_reply": "2023-10-30T14:09:12.547378Z",
     "shell.execute_reply.started": "2023-10-30T13:17:11.396571Z"
    },
    "papermill": {
     "duration": 1387.239237,
     "end_time": "2023-10-30T14:09:12.547583",
     "exception": false,
     "start_time": "2023-10-30T13:46:05.308346",
     "status": "completed"
    },
    "tags": []
   },
   "outputs": [
    {
     "name": "stdout",
     "output_type": "stream",
     "text": [
      "Starting fold:  0\n",
      "Starting fold:  1\n",
      "Starting fold:  2\n",
      "Starting fold:  3\n",
      "Starting fold:  4\n",
      "[0.0169781773377249, 0.01704491710861325, 0.016865153552168475, 0.01700900926983899, 0.01717882474706338]\n",
      "Mean OOF loss across folds 0.017015216403081797\n",
      "STD OOF loss across folds 0.00010156682747757948\n"
     ]
    }
   ],
   "source": [
    "oof_preds = np.zeros(y.shape)\n",
    "test_preds = np.zeros((test.shape[0], y.shape[1]))\n",
    "oof_losses = []\n",
    "# kf = [     ]([      ]=NFOLDS)\n",
    "for fn, (trn_idx, val_idx) in enumerate(kf.split(X, y)):\n",
    "    print('Starting fold: ', fn)\n",
    "    X_train, X_val = X[trn_idx], X[val_idx]\n",
    "    y_train, y_val = y[trn_idx], y[val_idx]\n",
    "    \n",
    "    # drop where cp_type==ctl_vehicle (baseline)\n",
    "    ctl_mask = X_train[:,0]=='ctl_vehicle'\n",
    "    X_train = X_train[~ctl_mask,:]\n",
    "    y_train = y_train[~ctl_mask]\n",
    "    \n",
    "    # clf.[                    ] 학습\n",
    "    # val_preds = clf.[             ](X_val) # list of preds per class, 예측\n",
    "    val_preds = np.array(val_preds)[:,:,1].T # take the positive class\n",
    "    oof_preds[val_idx] = val_preds\n",
    "    \n",
    "    loss = log_loss(np.ravel(y_val), np.ravel(val_preds))\n",
    "    oof_losses.append(loss)\n",
    "    # preds = clf.[             ](X_test) # 예측\n",
    "    preds = np.array(preds)[:,:,1].T # take the positive class\n",
    "    test_preds += preds / NFOLDS\n",
    "    \n",
    "print(oof_losses)\n",
    "print('Mean OOF loss across folds', np.mean(oof_losses))\n",
    "print('STD OOF loss across folds', np.std(oof_losses))"
   ]
  },
  {
   "cell_type": "markdown",
   "metadata": {
    "papermill": {
     "duration": 0.017621,
     "end_time": "2023-10-30T14:09:12.583601",
     "exception": false,
     "start_time": "2023-10-30T14:09:12.565980",
     "status": "completed"
    },
    "tags": []
   },
   "source": [
    "#### 평가도 OOF log loss 출력"
   ]
  },
  {
   "cell_type": "code",
   "execution_count": 7,
   "metadata": {
    "execution": {
     "iopub.execute_input": "2023-10-30T14:09:12.639237Z",
     "iopub.status.busy": "2023-10-30T14:09:12.638522Z",
     "iopub.status.idle": "2023-10-30T14:09:13.838809Z",
     "shell.execute_reply": "2023-10-30T14:09:13.838300Z",
     "shell.execute_reply.started": "2023-10-30T13:43:47.850756Z"
    },
    "papermill": {
     "duration": 1.237201,
     "end_time": "2023-10-30T14:09:13.838922",
     "exception": false,
     "start_time": "2023-10-30T14:09:12.601721",
     "status": "completed"
    },
    "tags": []
   },
   "outputs": [
    {
     "name": "stdout",
     "output_type": "stream",
     "text": [
      "OOF log loss:  0.0167240932391125\n"
     ]
    }
   ],
   "source": [
    "# set control train preds to 0\n",
    "control_mask = train['cp_type']=='ctl_vehicle'\n",
    "oof_preds[control_mask] = 0\n",
    "\n",
    "print('OOF log loss: ', log_loss(np.ravel(y), np.ravel(oof_preds)))"
   ]
  },
  {
   "cell_type": "markdown",
   "metadata": {
    "papermill": {
     "duration": 0.014686,
     "end_time": "2023-10-30T14:09:13.868699",
     "exception": false,
     "start_time": "2023-10-30T14:09:13.854013",
     "status": "completed"
    },
    "tags": []
   },
   "source": [
    "### Analysis of OOF preds\n"
   ]
  },
  {
   "cell_type": "code",
   "execution_count": 8,
   "metadata": {
    "execution": {
     "iopub.execute_input": "2023-10-30T14:09:13.904294Z",
     "iopub.status.busy": "2023-10-30T14:09:13.903701Z",
     "iopub.status.idle": "2023-10-30T14:09:13.906757Z",
     "shell.execute_reply": "2023-10-30T14:09:13.906286Z",
     "shell.execute_reply.started": "2023-10-30T13:44:48.231769Z"
    },
    "papermill": {
     "duration": 0.023264,
     "end_time": "2023-10-30T14:09:13.906854",
     "exception": false,
     "start_time": "2023-10-30T14:09:13.883590",
     "status": "completed"
    },
    "tags": []
   },
   "outputs": [],
   "source": [
    "# set control test preds to 0\n",
    "control_mask = test['cp_type']=='ctl_vehicle'\n",
    "\n",
    "test_preds[control_mask] = 0"
   ]
  },
  {
   "cell_type": "markdown",
   "metadata": {
    "papermill": {
     "duration": 0.015093,
     "end_time": "2023-10-30T14:09:13.936736",
     "exception": false,
     "start_time": "2023-10-30T14:09:13.921643",
     "status": "completed"
    },
    "tags": []
   },
   "source": [
    "#### submission 파일 생성"
   ]
  },
  {
   "cell_type": "code",
   "execution_count": 9,
   "metadata": {
    "execution": {
     "iopub.execute_input": "2023-10-30T14:09:13.971193Z",
     "iopub.status.busy": "2023-10-30T14:09:13.970629Z",
     "iopub.status.idle": "2023-10-30T14:09:16.271032Z",
     "shell.execute_reply": "2023-10-30T14:09:16.270297Z",
     "shell.execute_reply.started": "2023-10-30T13:44:50.720089Z"
    },
    "papermill": {
     "duration": 2.31933,
     "end_time": "2023-10-30T14:09:16.271151",
     "exception": false,
     "start_time": "2023-10-30T14:09:13.951821",
     "status": "completed"
    },
    "tags": []
   },
   "outputs": [],
   "source": [
    "# create the submission file\n",
    "sub.iloc[:,1:] = test_preds\n",
    "sub.to_csv('submission.csv', index=False)"
   ]
  }
 ],
 "metadata": {
  "kernelspec": {
   "display_name": "Python 3 (ipykernel)",
   "language": "python",
   "name": "python3"
  },
  "language_info": {
   "codemirror_mode": {
    "name": "ipython",
    "version": 3
   },
   "file_extension": ".py",
   "mimetype": "text/x-python",
   "name": "python",
   "nbconvert_exporter": "python",
   "pygments_lexer": "ipython3",
   "version": "3.11.4"
  },
  "papermill": {
   "duration": 1404.941188,
   "end_time": "2023-10-30T14:09:16.493733",
   "environment_variables": {},
   "exception": null,
   "input_path": "__notebook__.ipynb",
   "output_path": "__notebook__.ipynb",
   "parameters": {},
   "start_time": "2023-10-30T13:45:51.552545",
   "version": "2.1.0"
  }
 },
 "nbformat": 4,
 "nbformat_minor": 4
}
